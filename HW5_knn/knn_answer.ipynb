{
 "cells": [
  {
   "cell_type": "markdown",
   "metadata": {
    "id": "9Yz_gYljqC88"
   },
   "source": [
    "K-Nearest Neighbors (KNN) is a simple yet effective algorithm used for classification where a data point is assigned a class based on the majority class of its nearest neighbors. It operates on the principle of similarity, where the prediction for a new instance is determined by the labels of its closest k neighbors in the training data.\n",
    "\n",
    "Your task is to write the KNN classifier from scratch. We've provided a skeleton to get you started.\n",
    "\n",
    "---"
   ]
  },
  {
   "cell_type": "markdown",
   "metadata": {
    "id": "eT49wdd6o2bd"
   },
   "source": [
    "Imports and parameters. Note: no other libraries can be input."
   ]
  },
  {
   "cell_type": "code",
   "execution_count": 1,
   "metadata": {
    "id": "G3UoSvpfozio"
   },
   "outputs": [],
   "source": [
    "import numpy as np\n",
    "k = 3"
   ]
  },
  {
   "cell_type": "markdown",
   "metadata": {
    "id": "phcQKkk0o50D"
   },
   "source": [
    "A function that computes the distance between 2 points"
   ]
  },
  {
   "cell_type": "code",
   "execution_count": 2,
   "metadata": {
    "id": "8mYx01lXo54q"
   },
   "outputs": [],
   "source": [
    "def euclidean_distance(x1, x2):\n",
    "        return np.sqrt(np.sum((x1 - x2) ** 2))"
   ]
  },
  {
   "cell_type": "markdown",
   "metadata": {
    "id": "443C8GYGpA6n"
   },
   "source": [
    "\n",
    "Some fake data to test on"
   ]
  },
  {
   "cell_type": "code",
   "execution_count": 3,
   "metadata": {
    "colab": {
     "base_uri": "https://localhost:8080/"
    },
    "id": "qsyyxz6qpA_n",
    "outputId": "575e3c38-baab-4614-db80-282df830b5f9"
   },
   "outputs": [],
   "source": [
    "\n",
    "num_features = 20\n",
    "num_train = 50\n",
    "num_test = 5\n",
    "\n",
    "# create fake data\n",
    "np.random.seed(42)\n",
    "\n",
    "# Generate dummy train data\n",
    "train_data = np.random.rand(num_train, num_features)\n",
    "train_labels = np.random.randint(0, 2, num_train)\n",
    "\n",
    "# Generate dummy test data\n",
    "test_data = np.random.rand(num_test, num_features)"
   ]
  },
  {
   "cell_type": "markdown",
   "metadata": {
    "id": "cEfxh7Z5pHIY"
   },
   "source": [
    "This is just on possible way to write this. The output should match your output: 0 0 1 0 0. "
   ]
  },
  {
   "cell_type": "code",
   "execution_count": 4,
   "metadata": {
    "id": "QUhbWRrkpHSu"
   },
   "outputs": [
    {
     "name": "stdout",
     "output_type": "stream",
     "text": [
      "0\n",
      "0\n",
      "1\n",
      "0\n",
      "0\n"
     ]
    }
   ],
   "source": [
    "# Bekah's Time: 7 mins 43 seconds\n",
    "correct = 0\n",
    "total = 0\n",
    "for test_sample in test_data:\n",
    "    distances = []\n",
    "    for train_sample, train_label in zip(train_data, train_labels):\n",
    "        distances.append((euclidean_distance(test_sample, train_sample), train_label))\n",
    "\n",
    "    distances.sort()\n",
    "    distances = distances[0:k]\n",
    "    count_1, count_0 = 0, 0\n",
    "    for _, label in distances:\n",
    "        if label == 1:\n",
    "            count_1 = count_1 + 1\n",
    "        else:\n",
    "            count_0 = count_0 + 1\n",
    "            \n",
    "    if count_1 > count_0:\n",
    "        print(1)\n",
    "    else:\n",
    "        print(0)"
   ]
  },
  {
   "cell_type": "code",
   "execution_count": null,
   "metadata": {},
   "outputs": [],
   "source": []
  }
 ],
 "metadata": {
  "colab": {
   "provenance": []
  },
  "kernelspec": {
   "display_name": "Python 3 (ipykernel)",
   "language": "python",
   "name": "python3"
  },
  "language_info": {
   "codemirror_mode": {
    "name": "ipython",
    "version": 3
   },
   "file_extension": ".py",
   "mimetype": "text/x-python",
   "name": "python",
   "nbconvert_exporter": "python",
   "pygments_lexer": "ipython3",
   "version": "3.9.6"
  }
 },
 "nbformat": 4,
 "nbformat_minor": 1
}
