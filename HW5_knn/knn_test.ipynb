{
  "nbformat": 4,
  "nbformat_minor": 0,
  "metadata": {
    "colab": {
      "provenance": []
    },
    "kernelspec": {
      "name": "python3",
      "display_name": "Python 3"
    },
    "language_info": {
      "name": "python"
    }
  },
  "cells": [
    {
      "cell_type": "markdown",
      "source": [
        "K-Nearest Neighbors (KNN) is a simple yet effective algorithm used for classification where a data point is assigned a class based on the majority class of its nearest neighbors. It operates on the principle of similarity, where the prediction for a new instance is determined by the labels of its closest k neighbors in the training data.\n",
        "\n",
        "Your task is to write the KNN classifier from scratch. We've provided a skeleton to get you started.\n",
        "\n",
        "---"
      ],
      "metadata": {
        "id": "9Yz_gYljqC88"
      }
    },
    {
      "cell_type": "markdown",
      "source": [
        "Imports and parameters. Note: no other libraries can be input."
      ],
      "metadata": {
        "id": "eT49wdd6o2bd"
      }
    },
    {
      "cell_type": "code",
      "execution_count": 1,
      "metadata": {
        "id": "G3UoSvpfozio"
      },
      "outputs": [],
      "source": [
        "import numpy as np\n",
        "k = 3"
      ]
    },
    {
      "cell_type": "markdown",
      "source": [
        "A function that computes the distance between 2 points"
      ],
      "metadata": {
        "id": "phcQKkk0o50D"
      }
    },
    {
      "cell_type": "code",
      "source": [
        "def euclidean_distance(x1, x2):\n",
        "        return np.sqrt(np.sum((x1 - x2) ** 2))"
      ],
      "metadata": {
        "id": "8mYx01lXo54q"
      },
      "execution_count": 2,
      "outputs": []
    },
    {
      "cell_type": "markdown",
      "source": [
        "\n",
        "Some fake data to test on"
      ],
      "metadata": {
        "id": "443C8GYGpA6n"
      }
    },
    {
      "cell_type": "code",
      "source": [
        "\n",
        "num_features = 20\n",
        "num_train = 50\n",
        "num_test = 5\n",
        "\n",
        "# create fake data\n",
        "np.random.seed(42)\n",
        "\n",
        "# Generate dummy train data\n",
        "train_data = np.random.rand(num_train, num_features)\n",
        "train_labels = np.random.randint(0, 2, num_train)\n",
        "\n",
        "# Generate dummy test data\n",
        "test_data = np.random.rand(num_test, num_features)"
      ],
      "metadata": {
        "id": "qsyyxz6qpA_n",
        "colab": {
          "base_uri": "https://localhost:8080/"
        },
        "outputId": "575e3c38-baab-4614-db80-282df830b5f9"
      },
      "execution_count": 10,
      "outputs": [
        {
          "output_type": "stream",
          "name": "stdout",
          "text": [
            "2.13 µs ± 276 ns per loop (mean ± std. dev. of 7 runs, 1000000 loops each)\n"
          ]
        }
      ]
    },
    {
      "cell_type": "markdown",
      "source": [
        "You code goes in the next block."
      ],
      "metadata": {
        "id": "cEfxh7Z5pHIY"
      }
    },
    {
      "cell_type": "code",
      "source": [
        "\n",
        "...\n",
        "for test_sample in test_data:\n",
        "  ...\n",
        "\n",
        "\n",
        "  if CONDITION:\n",
        "    print(1)\n",
        "  else:\n",
        "    print(0)"
      ],
      "metadata": {
        "id": "QUhbWRrkpHSu"
      },
      "execution_count": null,
      "outputs": []
    }
  ]
}